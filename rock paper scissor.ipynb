{
 "cells": [
  {
   "cell_type": "code",
   "execution_count": null,
   "id": "5cf96c45-606e-41cf-b1d9-2e7ebee626a5",
   "metadata": {},
   "outputs": [
    {
     "name": "stdout",
     "output_type": "stream",
     "text": [
      "Welcome to Rock Paper Scissors!!!\n"
     ]
    },
    {
     "name": "stdin",
     "output_type": "stream",
     "text": [
      "Enter your choice (rock/paper/scissors) or 'exit' to exit:  rock\n"
     ]
    },
    {
     "name": "stdout",
     "output_type": "stream",
     "text": [
      "\n",
      "You chose: rock\n",
      "Computer chose: rock\n",
      "It's a tie!\n",
      "\n",
      "Score - You: 0, Computer: 0, Ties: 1\n",
      "\n",
      "==============================\n",
      "\n"
     ]
    }
   ],
   "source": [
    "import random\n",
    "\n",
    "def get_player_choice():\n",
    "    while True:\n",
    "        choice = input(\"Enter your choice (rock/paper/scissors) or 'exit' to exit: \").lower()\n",
    "        if choice in ['rock', 'paper', 'scissors', 'exit']:\n",
    "            return choice\n",
    "        print(\"Invalid choice. Please try again\")\n",
    "\n",
    "def get_computer_choice():\n",
    "    return random.choice(['rock', 'paper', 'scissors'])\n",
    "\n",
    "def determine_winner(player_choice, computer_choice):\n",
    "    if player_choice == computer_choice:\n",
    "        return \"It's a tie!\"\n",
    "    elif (\n",
    "        (player_choice == 'rock' and computer_choice == 'scissors') or\n",
    "        (player_choice == 'paper' and computer_choice == 'rock') or\n",
    "        (player_choice == 'scissors' and computer_choice == 'paper')\n",
    "    ):\n",
    "        return \"You win!\"\n",
    "    else:\n",
    "        return \"Computer wins!\"\n",
    "\n",
    "def play_game():\n",
    "    print(\"Welcome to Rock Paper Scissors!!!\")\n",
    "    \n",
    "    score = {'player': 0, 'computer': 0, 'ties': 0}\n",
    "    \n",
    "    while True:\n",
    "        player_choice = get_player_choice()\n",
    "        \n",
    "        if player_choice == 'exit':\n",
    "            break\n",
    "        \n",
    "        computer_choice = get_computer_choice()\n",
    "        \n",
    "        print(f\"\\nYou chose: {player_choice}\")\n",
    "        print(f\"Computer chose: {computer_choice}\")\n",
    "        \n",
    "        result = determine_winner(player_choice, computer_choice)\n",
    "        print(result)\n",
    "        \n",
    "        if result == \"You win!!!\":\n",
    "            score['player'] += 1\n",
    "        elif result == \"Computer wins!!!\":\n",
    "            score['computer'] += 1\n",
    "        else:\n",
    "            score['ties'] += 1\n",
    "        \n",
    "        print(f\"\\nScore - You: {score['player']}, Computer: {score['computer']}, Ties: {score['ties']}\")\n",
    "        print(\"\\n\" + \"=\"*30 + \"\\n\")\n",
    "    \n",
    "    print(\"\\nFinal Score:\")\n",
    "    print(f\"You: {score['player']}\")\n",
    "    print(f\"Computer: {score['computer']}\")\n",
    "    print(f\"Ties: {score['ties']}\")\n",
    "    print(\"\\nThanks for playing!!!\")\n",
    "\n",
    "if __name__ == \"__main__\":\n",
    "    play_game()"
   ]
  },
  {
   "cell_type": "code",
   "execution_count": null,
   "id": "a7a1e5f4-f3c3-4f28-9e7a-d1feae158a0e",
   "metadata": {},
   "outputs": [],
   "source": []
  }
 ],
 "metadata": {
  "kernelspec": {
   "display_name": "Python 3 (ipykernel)",
   "language": "python",
   "name": "python3"
  },
  "language_info": {
   "codemirror_mode": {
    "name": "ipython",
    "version": 3
   },
   "file_extension": ".py",
   "mimetype": "text/x-python",
   "name": "python",
   "nbconvert_exporter": "python",
   "pygments_lexer": "ipython3",
   "version": "3.11.7"
  }
 },
 "nbformat": 4,
 "nbformat_minor": 5
}
